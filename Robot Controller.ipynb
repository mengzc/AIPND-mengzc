{
 "cells": [
  {
   "cell_type": "markdown",
   "metadata": {},
   "source": [
    "## 控制迷宫寻宝机器人\n",
    "\n",
    "在这个项目中，你将使用刚刚学到的知识，尝试根据要求，编写代码，来控制一个机器人，在模拟环境中行走，并找到目标宝藏。\n",
    "\n",
    "机器人所在的模拟环境中，会包含这样几个因素：机器人的起点、障碍物、宝藏箱。你的任务包括：\n",
    "\n",
    "1. 分析模拟环境的数据\n",
    "2. 控制机器人随机行动\n",
    "3. （可选）控制机器人走到终点\n",
    "\n",
    "\n",
    "* 一个良好的含有注释的代码，可以让你的程序可读性更高，尝试为你自己的代码添加相应的注释。"
   ]
  },
  {
   "cell_type": "markdown",
   "metadata": {},
   "source": [
    "---\n",
    "\n",
    "---\n",
    "\n",
    "## 第一节 分析模拟环境的数据\n",
    "\n",
    "首先，只有足够了解机器人所在的环境，我们的机器人才能成功找到目标宝藏，因此首先我们来对机器人所在环境的数据进行分析。在这个部分，会考察你对数据结构、控制流的了解。\n"
   ]
  },
  {
   "cell_type": "markdown",
   "metadata": {},
   "source": [
    "### 1.1 理解模拟环境数据的储存格式\n",
    "\n",
    "首先我们思考这样的问题：如何存储模拟环境的数据呢？\n",
    "\n",
    "我们将我们的模拟环境抽象成一个格子世界，每个格子按照坐标编号进行标记；每个格子中会有四个情况，分别为普通格子（可通行）、机器人的起点（可通行）、障碍物（不可通行）、宝藏箱（目标点）。例如，一个模拟环境就可以抽象成3行4列的格子世界，并按这按这样的方法进行存储：\n",
    "```\n",
    "environment = [[0,0,0,2], \n",
    "               [1,2,0,0],\n",
    "               [0,2,3,2]]\n",
    "```\n",
    "我们用了一个列表来保存虚拟世界的数据。外层列表中的每一个元素依然是一个列表，它代表模拟环境中每行的数据。而对于这个列表中的每个元素都是一个数，它们的含义是：\n",
    "- 0: 普通格子（可通行）\n",
    "- 1: 机器人的起点（可通行）\n",
    "- 2: 障碍物（不可通行）\n",
    "- 3: 宝藏箱（目标点）\n",
    "\n",
    "那么，根据上述的数据，这个迷宫的第二行第一列，是我们机器人的起点。\n",
    "\n",
    "__注：我们描述的迷宫的坐标位置（第一行第一列），和迷宫下标索引的值（如 `(0,0)`）是不一样的，请注意下标的问题。__\n",
    "\n",
    "\n",
    "如下的代码，使用了辅助函数，读取了模拟环境的数据，并保存在了 `env_data` 变量中。\n"
   ]
  },
  {
   "cell_type": "code",
   "execution_count": 1156,
   "metadata": {},
   "outputs": [
    {
     "name": "stdout",
     "output_type": "stream",
     "text": [
      "maze-id 1-1530387514\n",
      "[[3, 2, 2, 2, 2, 2, 2, 2, 1],\n",
      " [0, 0, 2, 2, 2, 2, 2, 0, 0],\n",
      " [2, 0, 0, 2, 2, 2, 0, 0, 2],\n",
      " [2, 2, 0, 0, 2, 0, 0, 2, 2],\n",
      " [2, 2, 2, 0, 0, 0, 2, 2, 2]]\n"
     ]
    }
   ],
   "source": [
    "import helper\n",
    "\n",
    "env_data = helper.fetch_maze()\n"
   ]
  },
  {
   "cell_type": "markdown",
   "metadata": {},
   "source": [
    "---\n",
    "\n",
    "\n",
    "**任务1：**在如下代码中，请写代码获得这些值：\n",
    "\n",
    "1. 模拟环境的长和宽\n",
    "2. 模拟环境中第3行第6列元素"
   ]
  },
  {
   "cell_type": "code",
   "execution_count": 1157,
   "metadata": {},
   "outputs": [
    {
     "name": "stdout",
     "output_type": "stream",
     "text": [
      "迷宫共有 3 行 6 列，第三行第六列的元素是 2\n"
     ]
    }
   ],
   "source": [
    "#TODO 1模拟环境的行数\n",
    "rows = None \n",
    "rows = 3\n",
    "#TODO 2模拟环境的列数\n",
    "columns = None \n",
    "columns = 6\n",
    "#TODO 3取出模拟环境第三行第六列的元素\n",
    "row_3_col_6 = None \n",
    "row_3_col_6 = env_data[rows-1]\n",
    "row_3_col_6 = row_3_col_6[columns-1]\n",
    "print(\"迷宫共有\", rows, \"行\", columns, \"列，第三行第六列的元素是\", row_3_col_6)"
   ]
  },
  {
   "cell_type": "markdown",
   "metadata": {
    "collapsed": true
   },
   "source": [
    "---\n",
    "\n",
    "## 1.2 分析模拟环境数据\n",
    "\n",
    "接着我们需要对模拟环境的中的数据进行分析。请根据如下的指示，计算相应的值。\n",
    "\n",
    "---\n",
    "\n",
    "**任务2：**在如下代码中，请计算模拟环境中，第一行和第三列的障碍物个数。\n",
    "\n",
    "提示：*可以用循环完成。*"
   ]
  },
  {
   "cell_type": "code",
   "execution_count": 1158,
   "metadata": {},
   "outputs": [
    {
     "name": "stdout",
     "output_type": "stream",
     "text": [
      "迷宫中，第一行共有 7 个障碍物，第三列共有 3 个障碍物。\n"
     ]
    }
   ],
   "source": [
    "#TODO 4计算模拟环境中，第一行的的障碍物个数。\n",
    "number_of_barriers_row1 = None\n",
    "number_of_barriers_row1 = 0\n",
    "for i in env_data[0]:\n",
    "    #print(i)\n",
    "    if i == 2:\n",
    "        number_of_barriers_row1 +=1\n",
    "#print(number_of_barriers_row1)\n",
    "#TODO 5计算模拟环境中，第三列的的障碍物个数。\n",
    "number_of_barriers_col3 = None\n",
    "number_of_barriers_col3 = 0\n",
    "\n",
    "for i in range(len(env_data)):\n",
    "    #print(i)\n",
    "    #计算迷宫共有多少行\n",
    "    #循环列出每一行的数据，然后找每一行第三列的值，第三列的值用什么获取？\n",
    "    \n",
    "    #测试列出第三列的数值\n",
    "    #print(env_data[i][2]) \n",
    "        #print(i)#逐行循环打印打印出所有的值\n",
    "    if env_data[i][2] == 2:\n",
    "        number_of_barriers_col3 +=1\n",
    "        #    number_of_barriers_col3 +=1\n",
    "    #print(number_of_barriers_col3)\n",
    "\n",
    "print(\"迷宫中，第一行共有\", number_of_barriers_row1, \"个障碍物，第三列共有\", number_of_barriers_col3, \"个障碍物。\")"
   ]
  },
  {
   "cell_type": "markdown",
   "metadata": {},
   "source": [
    "---\n",
    "\n",
    "**任务3：**在如下代码中：\n",
    "\n",
    "1. 创建一个名为 `loc_map` 的字典，它有两个键值，分别为 `start` 和 `destination`，对应的值分别为起点和目标点的坐标，它们以如 `(1,1)` 的形式保存为元组。\n",
    "2. 从字典中取出 `start` 对应的值，保存在 `robot_current_loc` 对应的变量中，这个变量表示小车现在的位置。"
   ]
  },
  {
   "cell_type": "code",
   "execution_count": 1163,
   "metadata": {},
   "outputs": [
    {
     "name": "stdout",
     "output_type": "stream",
     "text": [
      "(1, 9)\n",
      "(1, 1)\n"
     ]
    }
   ],
   "source": [
    "col = 1\n",
    "row = 1\n",
    "##思路：从字典里面逐个去找机器人的位置，读每行，找到后行数为一个坐标，然后分析在第几列，作为一个坐标，确定行、列完成。\n",
    "#print(env_data)\n",
    "for i in range(len(env_data)):\n",
    "    #print(\"行数据：\",env_data[i])\n",
    "    #行数\n",
    "    col = i+1\n",
    "    #print('line',col)#打印行数\n",
    "\n",
    "    #打印每行元素\n",
    "        #使用elif判断的时候会和if选择其中之一执行，如果是if会出现结果不是想要的，原因是对于同一个i，有多个\n",
    "        #if的时候他会对所有的if情况进行判断，elif则是在if判断不通过的情况下才会判断。这个情况要分清楚。总之\n",
    "        #if会对每个if进行判断，elif只会对其中一个情况判断，只要有一个FALSE，就会去执行else部分语句。\n",
    "        #所以在下面的语句中必须要使用elif，如果使用if会导致列数计数重复，因为会重复执行2种情况。\n",
    "    for i in env_data[i]:\n",
    "        #robot_current_loc = 0 \n",
    "        #print(i)#打印每行的值，然后对值进行判断，查找机器人在哪里\n",
    "        #col = i\n",
    "        if i == 1:\n",
    "            #print('zhaodaola',i)\n",
    "            #print(\"机器人在行：\",col)\n",
    "            #机器人当前位置写入变量start\n",
    "            start = (col,row)\n",
    "            #print(\"0在第:[\",col,'行',row,'列!!!!!!!]')\n",
    "            row += 1       \n",
    "        elif i == 3:\n",
    "            #print('baozang')\n",
    "            destination = (col,row)\n",
    "            #print(\"2在第:[\",col,'行',row,'列!!!!!!!]')\n",
    "            row +=1\n",
    "        else:\n",
    "            row +=1#增加列数，第一列、第二列...\n",
    "            #print('机器人不在第',col+1,'行',row+1,'列')\n",
    "    #loc_map[\"start\"][0] = i\n",
    "        #start.append(i)\n",
    "    #上一行如果没有，下一行重新计算列数        \n",
    "    row = 1\n",
    "\n",
    "#loc_map = {\"start\":(),\"destination\":()} #TODO 6按照上述要求创建字典\n",
    "\n",
    "\n",
    "loc_map = {'start':start,'destination':destination}\n",
    "#print(loc_map)\n",
    "#print(\"loc_map[start]:\",loc_map[\"start\"])\n",
    "\n",
    "#print(\"loc_map[start]:\",loc_map[\"destination\"])\n",
    "\n",
    "robot_current_loc= loc_map[\"start\"]\n",
    "robot_destination_loc = loc_map['destination']\n",
    "print(robot_current_loc)\n",
    "print(robot_destination_loc)        "
   ]
  },
  {
   "cell_type": "markdown",
   "metadata": {},
   "source": [
    "\n",
    "---\n",
    "\n",
    "---\n",
    "\n",
    "## 第二节 控制机器人随机漫步\n",
    "\n",
    "在这一步中，你需发出指令，控制机器人在环境中随机行动。它会考察你对控制流、调用函数的知识。"
   ]
  },
  {
   "cell_type": "markdown",
   "metadata": {},
   "source": [
    "\n",
    "\n",
    "## 2.1 控制机器人行动\n",
    "\n",
    "我们的机器人能够执行四个动作：向上走 `u`、向下走 `d`、向左走 `l`、向右走 `r`。但是，由于有障碍，很多时候机器人的行动并不能成功。所以在这里，你需要实现一个函数，来判断机器人在某个位置，执行某个移动动作是否可行。\n",
    "\n",
    "---\n",
    "\n",
    "**任务4：**在下方代码中，实现名为 `is_move_valid_special` 的函数，它有两个输入，分别为机器人所在的位置坐标 `loc`，以及即将执行的动作 `act`，如 `(1,1)` 及 `u`。接着它的返回是一个布尔值，表明小车在 `loc` 位置下，是否可以执行动作 `act`。\n",
    "\n",
    "\n",
    "提示1：*可以读取上方定义的 `env_data` 变量，来读取模拟环境的数据。*\n",
    "\n",
    "提示2：*在实现函数后，请删去下方的 `pass` 代码。*\n",
    "\n",
    "提示3：*我们需要处理边界的情况，即机器人走到了虚拟环境边界时，是不能够走出虚拟环境的。*"
   ]
  },
  {
   "cell_type": "code",
   "execution_count": 1168,
   "metadata": {},
   "outputs": [
    {
     "name": "stdout",
     "output_type": "stream",
     "text": [
      "False\n",
      "3\n",
      "1\n",
      "True\n",
      "3\n",
      "1\n",
      "True\n",
      "3\n",
      "1\n",
      "True\n",
      "3\n",
      "1\n"
     ]
    }
   ],
   "source": [
    "def is_move_valid_sepcial(loc, act):\n",
    "    \"\"\"\n",
    "    Judge wether the robot can take action act\n",
    "    at location loc.\n",
    "    \n",
    "    Keyword arguments:\n",
    "    loc -- tuple, robots current location\n",
    "    act -- string, robots meant action\n",
    "    \"\"\"\n",
    "    if act == \"u\":\n",
    "        if loc[0]-1 > 0:\n",
    "            print (\"True\")\n",
    "        else:\n",
    "            print (\"False\")\n",
    "    elif act == \"d\":\n",
    "        if loc[0]+1 <= len(env_data):\n",
    "            print (\"True\")\n",
    "        else:\n",
    "            print (\"False\")\n",
    "    elif act == \"l\":\n",
    "        if loc[1]-1 > 0:\n",
    "            print (\"True\")\n",
    "        else:\n",
    "            print (\"False\")\n",
    "    elif act == \"r\":\n",
    "        if loc[1]+1 <=len(env_data[0]):\n",
    "            print (\"True\")\n",
    "            #print(len(env_data[0]))\n",
    "        else:\n",
    "            print (\"False\")\n",
    "    print(loc[0])\n",
    "    print(loc[1])    \n",
    "\n",
    "\n",
    "    \n",
    "    #TODO 8\n",
    "#    print(loc,act)\n",
    "\n",
    "is_move_valid_sepcial(a,\"l\")\n",
    "is_move_valid_sepcial(a,\"r\")\n",
    "is_move_valid_sepcial(a,\"u\")\n",
    "is_move_valid_sepcial(a,\"d\")\n"
   ]
  },
  {
   "cell_type": "markdown",
   "metadata": {},
   "source": [
    "---\n",
    "\n",
    "**任务5：**在下方代码中，重新实现一个名为 `is_move_valid` 的函数，它有三个输入，分别为模拟环境的数据 `env_data`、机器人所在的位置坐标 `loc`、以及即将执行的动作 `act`。它的返回值与此前一样，是一个布尔值，表明小车在给定的虚拟环境中的 `loc` 位置下，是否可以执行动作 `act`。"
   ]
  },
  {
   "cell_type": "code",
   "execution_count": 1169,
   "metadata": {
    "scrolled": true
   },
   "outputs": [
    {
     "data": {
      "text/plain": [
       "True"
      ]
     },
     "execution_count": 1169,
     "metadata": {},
     "output_type": "execute_result"
    }
   ],
   "source": [
    "def is_move_valid(data, loc, act):\n",
    "    \"\"\"\n",
    "    Judge wether the robot can take action act\n",
    "    at location loc.\n",
    "    \n",
    "    Keyword arguments:\n",
    "    env -- list, the environment data\n",
    "    loc -- tuple, robots current location\n",
    "    act -- string, robots meant action\n",
    "    \"\"\"\n",
    "    #TODO 9\n",
    "    if act == \"u\":\n",
    "        if loc[0]-1 > 0:\n",
    "            #print (act,\"True\")\n",
    "            return True\n",
    "        else:\n",
    "            #print (act,\"False\")\n",
    "            return False\n",
    "    elif act == \"d\":\n",
    "        if loc[0]+1 <= len(data):\n",
    "            #print (act,\"True\")\n",
    "            return True\n",
    "        else:\n",
    "            #print (act,\"False\")\n",
    "            return False\n",
    "    elif act == \"l\":\n",
    "        if loc[1]-1 > 0:\n",
    "            #print (act,\"True\")\n",
    "            return True\n",
    "        else:\n",
    "            #print (act,\"False\")\n",
    "            return False\n",
    "\n",
    "    elif act == \"r\":\n",
    "        if loc[1]+1 <= len(data[0]):\n",
    "            #print (act,\"True\")\n",
    "            return True\n",
    "        else:\n",
    "            #print (act,\"False\")\n",
    "            return False\n",
    "    else:\n",
    "        print('')\n",
    "\n",
    "            \n",
    "#print(is_move_valid(env_data, a, \"u\"))\n",
    "\n",
    "#print(is_move_valid(env_data, a, \"d\"))\n",
    "\n",
    "#print(is_move_valid(env_data, a, \"l\"))\n",
    "\n",
    "#print(is_move_valid(env_data, a, \"r\"))\n",
    "is_move_valid(env_data, a, \"u\")\n",
    "is_move_valid(env_data, a, \"d\")\n",
    "is_move_valid(env_data, a, \"l\")\n",
    "is_move_valid(env_data, a, \"r\")\n",
    "#疑问：同时调用多个函数，有返回值的函数调用多个，只返回最后一个函数的值？"
   ]
  },
  {
   "cell_type": "markdown",
   "metadata": {},
   "source": [
    "---\n",
    "\n",
    "**任务6：**请回答：**在任务5及任务6中的实现的两个函数中，`env_data` 这个变量有什么不同？**\n",
    "\n",
    "提示：_可以尝试从变量作用域的角度回答该问题。_\n",
    "\n"
   ]
  },
  {
   "cell_type": "raw",
   "metadata": {},
   "source": [
    "**回答：** （任务5中变量作用域是全局的，而在任务6中env_data变量只在函数内发生作用，任务6的以函数形式对比任务5更好一些，好在函数的形式可以更通用，而不用去担心将来env_data变量发生变化导致程序错误，比如要更改env_data成为env_data1后，任务5中的程序就会发生错误，而任务6只需要更改调用函数的部分就可以了。）"
   ]
  },
  {
   "cell_type": "markdown",
   "metadata": {},
   "source": [
    "---\n",
    "\n",
    "## 2.2 机器人可行动作\n",
    "\n",
    "---\n",
    "\n",
    "**任务7：**编写一个名为 `valid_actions` 的函数。它有两个输入，分别为虚拟环境的数据 `env_data`，以及机器人所在的位置 `loc`，输出是一个列表，表明机器人在这个位置所有的可行动作。\n",
    "\n",
    "提示：*可以尝试调用上方定义的`is_move_valid`函数。*\n"
   ]
  },
  {
   "cell_type": "code",
   "execution_count": 1170,
   "metadata": {},
   "outputs": [],
   "source": [
    "## TODO 10 从头定义、实现你的函数\n",
    "def valid_actions(env_data,loc):\n",
    "    actions = []\n",
    "    if is_move_valid(env_data, loc, \"u\") == True:\n",
    "        actions.append('u')\n",
    "    if is_move_valid(env_data, loc, \"d\"):\n",
    "        actions.append('d')\n",
    "    if is_move_valid(env_data, loc, \"l\"):\n",
    "        actions.append('l')\n",
    "    if is_move_valid(env_data, loc, \"r\"):\n",
    "        actions.append('r')\n",
    "    #print(actions)\n",
    "    return actions\n",
    "\n",
    "#valid_actions(env_data, a)"
   ]
  },
  {
   "cell_type": "markdown",
   "metadata": {},
   "source": [
    "---\n",
    "\n",
    "## 2.3 移动机器人\n",
    "\n",
    "当机器人收到一个动作的时候，你机器人的位置应发生相应的变化。\n",
    "\n",
    "**任务8：**编写一个名为 `move_robot` 的函数，它有两个输入，分别为机器人当前所在的位置 `loc` 和即将执行的动作 `act`。接着会返回机器人执行动作之后的新位置 `new_loc`。"
   ]
  },
  {
   "cell_type": "code",
   "execution_count": 1200,
   "metadata": {},
   "outputs": [],
   "source": [
    "##TODO 11 从头定义、实现你的函数\n",
    "def move_robot(loc,act):\n",
    "    if act == \"u\":\n",
    "        loc=(loc[0]-1,loc[1])\n",
    "        return loc\n",
    "    if act == \"d\":\n",
    "        loc=(loc[0]+1,loc[1])\n",
    "        return loc\n",
    "    if act == \"l\":\n",
    "        loc=(loc[0],loc[1]-1)\n",
    "        return loc\n",
    "    if act == \"r\":\n",
    "        loc=(loc[0],loc[1]+1)\n",
    "        return loc\n",
    "    else:\n",
    "        print('input err')\n",
    "#print(robot_current_loc)\n",
    "#b = move_robot(robot_current_loc,\"d\")\n",
    "#b = 1\n",
    "#print (b)\n",
    "##多条if和else语句中，只要存在一个if是FALSE的情况，else就会被执行！，\n",
    "#只有最靠近else语句的if结果是TRUE的时候，else中的语句才不会被执行，使用elif时候"
   ]
  },
  {
   "cell_type": "markdown",
   "metadata": {},
   "source": [
    "---\n",
    "\n",
    "## 2.4 随机移动机器人\n",
    "\n",
    "接着，我们尝试在虚拟环境中随机移动机器人，看看会有什么效果。\n",
    "\n",
    "**任务9：**编写一个名为 `random_choose_actions` 的函数，它有两个输入，分别为虚拟环境的数据 `env_data`，以及机器人所在的位置 `loc`。机器人会执行一个300次的循环，每次循环，他会执行以下任务：\n",
    "\n",
    "1. 利用上方定义的 `valid_actions` 函数，找出当前位置下，机器人可行的动作；\n",
    "2. 利用 `random` 库中的 `choice` 函数，从机器人可行的动作中，随机挑选出一个动作；\n",
    "3. 接着根据这个动作，利用上方定义的 `move_robot` 函数，来移动机器人，并更新机器人的位置；\n",
    "4. 当机器人走到终点时，输出“在第n个回合找到宝藏！”。\n",
    "\n",
    "提示：如果机器人无法在300个回合内找到宝藏的话，试试看增大这个数字，也许会有不错的效果 :P"
   ]
  },
  {
   "cell_type": "code",
   "execution_count": 1205,
   "metadata": {},
   "outputs": [],
   "source": [
    "##TODO 12 从头实现你的函数\n",
    "def random_choose_actions(env_data,loc):\n",
    "    #valid_actions(env_data,robot_current_loc)\n",
    "    #print(valid_actions(env_data, robot_current_loc))\n",
    "\n",
    "    #print('当前位置：',loc)\n",
    "    #print('可以移动的方向：',valid_actions(env_data, loc))\n",
    "    act = random.choice(valid_actions(env_data,loc))\n",
    "    #print('随机移动的方向：',act)\n",
    "    \n",
    "    \n",
    "    #move_robot(robot_current_loc,random.choice(act))\n",
    "    #move_robot(robot_current_loc,random.choice(act))\n",
    "    newloc = move_robot(loc,act)\n",
    "    #print('新的位置：',newloc)\n",
    "    return newloc\n",
    "    \n"
   ]
  },
  {
   "cell_type": "code",
   "execution_count": 1219,
   "metadata": {},
   "outputs": [
    {
     "name": "stdout",
     "output_type": "stream",
     "text": [
      "[3, 2, 2, 2, 2, 2, 2, 2, 1]\n",
      "[0, 0, 2, 2, 2, 2, 2, 0, 0]\n",
      "[2, 0, 0, 2, 2, 2, 0, 0, 2]\n",
      "[2, 2, 0, 0, 2, 0, 0, 2, 2]\n",
      "[2, 2, 2, 0, 0, 0, 2, 2, 2]\n",
      "宝藏位置 (1, 1)\n",
      "机器人位置 (1, 9)\n",
      "在第 125 个回合找到宝1藏！\n"
     ]
    }
   ],
   "source": [
    "import random\n",
    "# 运行\n",
    "\n",
    "for x in env_data:\n",
    "        print(x)\n",
    "\n",
    "loc = robot_current_loc\n",
    "print('宝藏位置',robot_destination_loc)\n",
    "print('机器人位置',robot_current_loc)\n",
    "\n",
    "#newloc = random_choose_actions(env_data,loc)\n",
    "#print('newloc',newloc)\n",
    "#print(loc)\n",
    "\n",
    "\n",
    "i = 0\n",
    "while i < 300:\n",
    "    #print(i)\n",
    "    #print('当前',loc)\n",
    "    newloc = random_choose_actions(env_data,loc)\n",
    "    #print('新的',newloc)\n",
    "    if newloc == robot_destination_loc:\n",
    "        print('在第',i,'个回合找到宝1藏！')\n",
    "        break\n",
    "    else:\n",
    "        loc = newloc\n",
    "\n",
    "    i +=1\n"
   ]
  },
  {
   "cell_type": "markdown",
   "metadata": {},
   "source": [
    "\n",
    "---\n",
    "\n",
    "---\n",
    "\n",
    "## （可选）第三节 控制机器人走到终点\n",
    "\n",
    "## 3.1 控制机器人走到终点\n",
    "\n",
    "在这里，你将综合上述的知识，编码控制机器人走到终点。这个任务对刚刚入门的你来说可能有些挑战，所以它是一个选做题。\n",
    "\n",
    "**任务10**：尝试实现一个算法，能够对给定的模拟环境，输出机器人的行动策略，使之能够走到终点。\n",
    "\n",
    "提示：_你可以尝试参考 [A星算法](https://zh.wikipedia.org/wiki/A*%E6%90%9C%E5%AF%BB%E7%AE%97%E6%B3%95) 。_\n",
    "以及以下参考资料：\n",
    "* https://baike.baidu.com/item/A%2A算法\n",
    "\n",
    "* https://blog.csdn.net/hitwhylz/article/details/23089415"
   ]
  },
  {
   "cell_type": "code",
   "execution_count": 1216,
   "metadata": {},
   "outputs": [],
   "source": [
    "##TODO 13 实现你的算法"
   ]
  },
  {
   "cell_type": "markdown",
   "metadata": {},
   "source": [
    "> 注意: 当你写完了所有的代码，并且回答了所有的问题。你就可以把你的 iPython Notebook 导出成 HTML 文件。你可以在菜单栏，这样导出**File -> Download as -> HTML (.html)**把这个 HTML 和这个 iPython notebook 一起做为你的作业提交。"
   ]
  },
  {
   "cell_type": "code",
   "execution_count": null,
   "metadata": {},
   "outputs": [],
   "source": []
  }
 ],
 "metadata": {
  "kernelspec": {
   "display_name": "Python 3",
   "language": "python",
   "name": "python3"
  }
 },
 "nbformat": 4,
 "nbformat_minor": 2
}
